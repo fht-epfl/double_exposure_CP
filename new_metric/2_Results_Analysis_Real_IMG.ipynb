{
 "cells": [
  {
   "cell_type": "code",
   "execution_count": 1,
   "id": "4f2d105b",
   "metadata": {},
   "outputs": [
    {
     "name": "stdout",
     "output_type": "stream",
     "text": [
      "Kendall's Tau correlation with Ground Truth:\n"
     ]
    },
    {
     "data": {
      "text/html": [
       "<div>\n",
       "<style scoped>\n",
       "    .dataframe tbody tr th:only-of-type {\n",
       "        vertical-align: middle;\n",
       "    }\n",
       "\n",
       "    .dataframe tbody tr th {\n",
       "        vertical-align: top;\n",
       "    }\n",
       "\n",
       "    .dataframe thead th {\n",
       "        text-align: right;\n",
       "    }\n",
       "</style>\n",
       "<table border=\"1\" class=\"dataframe\">\n",
       "  <thead>\n",
       "    <tr style=\"text-align: right;\">\n",
       "      <th></th>\n",
       "      <th>Model</th>\n",
       "      <th>Kendall's Tau</th>\n",
       "    </tr>\n",
       "  </thead>\n",
       "  <tbody>\n",
       "    <tr>\n",
       "      <th>2</th>\n",
       "      <td>SCS</td>\n",
       "      <td>0.511111</td>\n",
       "    </tr>\n",
       "    <tr>\n",
       "      <th>1</th>\n",
       "      <td>NIMA</td>\n",
       "      <td>0.377778</td>\n",
       "    </tr>\n",
       "    <tr>\n",
       "      <th>0</th>\n",
       "      <td>CLIP</td>\n",
       "      <td>-0.066667</td>\n",
       "    </tr>\n",
       "  </tbody>\n",
       "</table>\n",
       "</div>"
      ],
      "text/plain": [
       "  Model  Kendall's Tau\n",
       "2   SCS       0.511111\n",
       "1  NIMA       0.377778\n",
       "0  CLIP      -0.066667"
      ]
     },
     "metadata": {},
     "output_type": "display_data"
    },
    {
     "name": "stdout",
     "output_type": "stream",
     "text": [
      "\n",
      "Model most aligned with ground truth: SCS\n"
     ]
    }
   ],
   "source": [
    "# Kendall's Tau Comparison for Ranking Models\n",
    "\n",
    "import numpy as np\n",
    "from scipy.stats import kendalltau\n",
    "import pandas as pd\n",
    "\n",
    "# Define ground truth (rank 1 to 10)\n",
    "ground_truth = list(range(1, 11))\n",
    "\n",
    "# Define model rankings\n",
    "clip_rank = [6, 2, 7, 5, 4, 10, 9, 3, 8, 1]\n",
    "nima_rank = [1, 2, 3, 10, 9, 6, 4, 7, 5, 8]\n",
    "scs_rank = [4, 1, 7, 2, 3, 5, 8, 10, 9, 6]\n",
    "\n",
    "# Compute Kendall's Tau\n",
    "tau_clip, _ = kendalltau(ground_truth, clip_rank)\n",
    "tau_nima, _ = kendalltau(ground_truth, nima_rank)\n",
    "tau_scs, _ = kendalltau(ground_truth, scs_rank)\n",
    "\n",
    "# Put results in a DataFrame for better display\n",
    "results = pd.DataFrame({\n",
    "    'Model': ['CLIP', 'NIMA', 'SCS'],\n",
    "    \"Kendall's Tau\": [tau_clip, tau_nima, tau_scs]\n",
    "}).sort_values(\"Kendall's Tau\", ascending=False)\n",
    "\n",
    "# Display the results\n",
    "print(\"Kendall's Tau correlation with Ground Truth:\")\n",
    "display(results)\n",
    "\n",
    "# Which is best?\n",
    "best_model = results.iloc[0]['Model']\n",
    "print(f\"\\nModel most aligned with ground truth: {best_model}\")\n"
   ]
  },
  {
   "cell_type": "markdown",
   "id": "3f4d075d",
   "metadata": {},
   "source": [
    "![#4](imgs/4.png)\n",
    "![#6](imgs/6.png)"
   ]
  },
  {
   "cell_type": "markdown",
   "id": "0d8c3455",
   "metadata": {},
   "source": [
    "The problem for number 4 is the salient area is almost nothing based on our method.\n",
    "The problem for number 7 is the silhouette part is more than we expected. more area are hallucinated by the trees behind. So if we remove number 4 and 7, we will see our method works even better."
   ]
  },
  {
   "cell_type": "code",
   "execution_count": 2,
   "id": "8a57ea53",
   "metadata": {},
   "outputs": [
    {
     "name": "stdout",
     "output_type": "stream",
     "text": [
      "Kendall's Tau correlation (after removing 4 and 7):\n"
     ]
    },
    {
     "data": {
      "text/html": [
       "<div>\n",
       "<style scoped>\n",
       "    .dataframe tbody tr th:only-of-type {\n",
       "        vertical-align: middle;\n",
       "    }\n",
       "\n",
       "    .dataframe tbody tr th {\n",
       "        vertical-align: top;\n",
       "    }\n",
       "\n",
       "    .dataframe thead th {\n",
       "        text-align: right;\n",
       "    }\n",
       "</style>\n",
       "<table border=\"1\" class=\"dataframe\">\n",
       "  <thead>\n",
       "    <tr style=\"text-align: right;\">\n",
       "      <th></th>\n",
       "      <th>Model</th>\n",
       "      <th>Kendall's Tau</th>\n",
       "    </tr>\n",
       "  </thead>\n",
       "  <tbody>\n",
       "    <tr>\n",
       "      <th>2</th>\n",
       "      <td>SCS</td>\n",
       "      <td>0.714286</td>\n",
       "    </tr>\n",
       "    <tr>\n",
       "      <th>1</th>\n",
       "      <td>NIMA</td>\n",
       "      <td>0.428571</td>\n",
       "    </tr>\n",
       "    <tr>\n",
       "      <th>0</th>\n",
       "      <td>CLIP</td>\n",
       "      <td>-0.142857</td>\n",
       "    </tr>\n",
       "  </tbody>\n",
       "</table>\n",
       "</div>"
      ],
      "text/plain": [
       "  Model  Kendall's Tau\n",
       "2   SCS       0.714286\n",
       "1  NIMA       0.428571\n",
       "0  CLIP      -0.142857"
      ]
     },
     "metadata": {},
     "output_type": "display_data"
    },
    {
     "name": "stdout",
     "output_type": "stream",
     "text": [
      "\n",
      "Model most aligned with filtered ground truth: SCS\n"
     ]
    }
   ],
   "source": [
    "# Recompute Kendall's Tau after removing 4 and 7 from all lists\n",
    "\n",
    "import numpy as np\n",
    "from scipy.stats import kendalltau\n",
    "import pandas as pd\n",
    "\n",
    "# Original lists\n",
    "ground_truth = list(range(1, 11))\n",
    "clip_rank = [6, 2, 7, 5, 4, 10, 9, 3, 8, 1]\n",
    "nima_rank = [1, 2, 3, 10, 9, 6, 4, 7, 5, 8]\n",
    "scs_rank = [4, 1, 7, 2, 3, 5, 8, 10, 9, 6]\n",
    "\n",
    "# Elements to remove\n",
    "to_remove = {4, 7}\n",
    "\n",
    "# Define a function to remove items and preserve order\n",
    "def filter_ranking(ranking, to_remove):\n",
    "    return [x for x in ranking if x not in to_remove]\n",
    "\n",
    "# Apply filtering\n",
    "filtered_clip = filter_ranking(clip_rank, to_remove)\n",
    "filtered_nima = filter_ranking(nima_rank, to_remove)\n",
    "filtered_scs = filter_ranking(scs_rank, to_remove)\n",
    "filtered_gt = filter_ranking(ground_truth, to_remove)\n",
    "\n",
    "# Sanity check: all lists should be the same length\n",
    "assert len(filtered_clip) == len(filtered_gt)\n",
    "assert len(filtered_nima) == len(filtered_gt)\n",
    "assert len(filtered_scs) == len(filtered_gt)\n",
    "\n",
    "# Recalculate Kendall's Tau\n",
    "tau_clip, _ = kendalltau(filtered_gt, filtered_clip)\n",
    "tau_nima, _ = kendalltau(filtered_gt, filtered_nima)\n",
    "tau_scs, _ = kendalltau(filtered_gt, filtered_scs)\n",
    "\n",
    "# Format results\n",
    "results = pd.DataFrame({\n",
    "    'Model': ['CLIP', 'NIMA', 'SCS'],\n",
    "    \"Kendall's Tau\": [tau_clip, tau_nima, tau_scs]\n",
    "}).sort_values(\"Kendall's Tau\", ascending=False)\n",
    "\n",
    "# Show results\n",
    "print(\"Kendall's Tau correlation (after removing 4 and 7):\")\n",
    "display(results)\n",
    "\n",
    "# Identify best model\n",
    "best_model = results.iloc[0]['Model']\n",
    "print(f\"\\nModel most aligned with filtered ground truth: {best_model}\")\n"
   ]
  },
  {
   "cell_type": "code",
   "execution_count": null,
   "id": "f5c73bb1",
   "metadata": {},
   "outputs": [],
   "source": []
  }
 ],
 "metadata": {
  "kernelspec": {
   "display_name": "ada",
   "language": "python",
   "name": "python3"
  },
  "language_info": {
   "codemirror_mode": {
    "name": "ipython",
    "version": 3
   },
   "file_extension": ".py",
   "mimetype": "text/x-python",
   "name": "python",
   "nbconvert_exporter": "python",
   "pygments_lexer": "ipython3",
   "version": "3.11.10"
  }
 },
 "nbformat": 4,
 "nbformat_minor": 5
}
